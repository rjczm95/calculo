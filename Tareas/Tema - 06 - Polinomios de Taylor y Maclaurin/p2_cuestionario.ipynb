{
  "nbformat": 4,
  "nbformat_minor": 0,
  "metadata": {
    "colab": {
      "name": "Untitled1.ipynb",
      "provenance": []
    },
    "kernelspec": {
      "name": "python3",
      "display_name": "Python 3"
    },
    "language_info": {
      "name": "python"
    }
  },
  "cells": [
    {
      "cell_type": "markdown",
      "metadata": {
        "id": "6KpnKmcs0b4C"
      },
      "source": [
        "## **Pregunta 2. Cuestionario Polinomios de Taylor**"
      ]
    },
    {
      "cell_type": "markdown",
      "metadata": {
        "id": "06-n7PWP0u4N"
      },
      "source": [
        "$$f(x) = \\sqrt{1+x} \\ ; \\ error (Rn(1))\\le 0.001 \\ ; \\ x_0=1 \\rightarrow f(x) = \\sqrt{2}$$\n",
        "\n",
        "$$P(x) = 1 + \\frac{1}{2}x+\\sum_{k=2}^n\\frac{{(-1)}^{n-1} (2k-3)!!}{k! \\ 2^k}\\ x^{k}$$\n",
        "\n",
        "$$Rn(n) = \\frac{{(-1)}^{n-1}(2n-1)!!}{(n+1)! \\ 2^{n+1}}\\ {(1+c)}^{-n-\\frac{1}{2}} \\ x^{n+1}$$"
      ]
    },
    {
      "cell_type": "code",
      "metadata": {
        "id": "4kN6u3lDxmJs"
      },
      "source": [
        "import math"
      ],
      "execution_count": 2,
      "outputs": []
    },
    {
      "cell_type": "code",
      "metadata": {
        "id": "fRVn9C5CxwRn"
      },
      "source": [
        "def second_factorial (n):\n",
        "  if n in (1,2):\n",
        "    return n\n",
        "  else:\n",
        "    if n == 0:\n",
        "      return 1\n",
        "    else:\n",
        "      return n * second_factorial(n-2)"
      ],
      "execution_count": 6,
      "outputs": []
    },
    {
      "cell_type": "code",
      "metadata": {
        "colab": {
          "base_uri": "https://localhost:8080/"
        },
        "id": "8JeHjW5bzB-Q",
        "outputId": "99026195-737f-4fe9-9f2f-8c924f31a56d"
      },
      "source": [
        "def calculo_n (error):\n",
        "  m = 2\n",
        "  cota_error = (second_factorial(2*m-1))/(math.factorial(m+1)*2**(m+1))\n",
        "  while (cota_error >= error):\n",
        "    m = m+1\n",
        "    cota_error = (second_factorial(2*m-1))/(math.factorial(m+1)*2**(m+1))\n",
        "  return m\n",
        "calculo_n(0.001)"
      ],
      "execution_count": 7,
      "outputs": [
        {
          "output_type": "execute_result",
          "data": {
            "text/plain": [
              "43"
            ]
          },
          "metadata": {
            "tags": []
          },
          "execution_count": 7
        }
      ]
    }
  ]
}